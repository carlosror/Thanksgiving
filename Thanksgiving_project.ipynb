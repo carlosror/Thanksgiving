{
 "cells": [
  {
   "cell_type": "markdown",
   "metadata": {},
   "source": [
    "## Who shops Black Friday sales on Thanksgiving Day?"
   ]
  },
  {
   "cell_type": "markdown",
   "metadata": {},
   "source": [
    "### 1. Introduction\n",
    "\n",
    "In the United States, Black Friday is the Friday after Thanksgiving, or the last Friday in November. It's a shopping extravaganza in which stores typically open their doors extremely early and offer one-time only deals. In years past, people have been known to form lines outside the stores starting Friday at midnight in order to score the best deals, also known as doorbuster deals, on items that are expected to quickly run out, such as TV's and video game consoles.\n",
    "\n",
    "In recent years many stores have added a twist: they have started Black Friday on [*Thursday*](https://en.wikipedia.org/wiki/Black_Friday_%28shopping%29#Black_Thursday): Thanksgiving Day itself. It started a few years back with stores opening later in the evening, but JCPenney opened its doors at 2 P.M. on Thanksgiving Day 2017.\n",
    "\n",
    "A few days before Thanksgiving 2015, [FiveThirtyEight](https://www.fivethirtyeight.com/) surveyed 1,058 respondents on general Thanksgiving [questions](https://github.com/fivethirtyeight/data/tree/master/thanksgiving-2015), such as whether they celebrate Thanksgiving with friends or with family or at all, what types of desserts and turkey stuffings they prefer, etc. They also asked respondents whether they would shop Black Friday sales on Thanksgiving Day itself. In this exploration and visualization, we seek to gain a little more insight on who does Black Friday on Thanksgiving Day using the data collected by FiveThirtyEight."
   ]
  },
  {
   "cell_type": "markdown",
   "metadata": {},
   "source": [
    "### 2. Reading the data\n",
    "\n",
    "The survey data is available at FiveThirtyEight's [Github repository](https://github.com/fivethirtyeight/data/tree/master/thanksgiving-2015). We start by loading the libraries we will be using and then proceed to read the data."
   ]
  },
  {
   "cell_type": "markdown",
   "metadata": {},
   "source": [
    "Loading main libraries"
   ]
  },
  {
   "cell_type": "code",
   "execution_count": 1,
   "metadata": {
    "collapsed": true
   },
   "outputs": [],
   "source": [
    "import pandas as pd\n",
    "import matplotlib.pyplot as plt\n",
    "import numpy as np\n",
    "# Jupyter magic to make matplotlib lines plots appear inline\n",
    "%matplotlib inline"
   ]
  },
  {
   "cell_type": "markdown",
   "metadata": {},
   "source": [
    "Reading the data"
   ]
  },
  {
   "cell_type": "code",
   "execution_count": 2,
   "metadata": {},
   "outputs": [
    {
     "data": {
      "text/plain": [
       "(1058, 65)"
      ]
     },
     "execution_count": 2,
     "metadata": {},
     "output_type": "execute_result"
    }
   ],
   "source": [
    "tg_data = pd.read_csv(\"thanksgiving-2015-poll-data.csv\", encoding = \"Latin-1\")\n",
    "tg_data.shape"
   ]
  },
  {
   "cell_type": "markdown",
   "metadata": {},
   "source": [
    "Those surveyed answered questions on a variety of [Thanksgiving topics](https://github.com/fivethirtyeight/data/tree/master/thanksgiving-2015). We are interested in finding out who shopped Thanksgiving sales across four categories: gender, age, income, and region."
   ]
  },
  {
   "cell_type": "markdown",
   "metadata": {},
   "source": [
    "### 3.0 Pivot tables"
   ]
  },
  {
   "cell_type": "markdown",
   "metadata": {},
   "source": [
    "We can have pandas compute [pivot tables](https://en.wikipedia.org/wiki/Pivot_table#Mechanics) showing the percentages across categories that shopped Black Friday sales on Thanksgiving Day 2015."
   ]
  },
  {
   "cell_type": "markdown",
   "metadata": {},
   "source": [
    "#### 3.1 Gender\n",
    "\n",
    "The survey asked respondents: *\"What is your gender?\"*. We will rename that column as *\"Gender\"*. Similarly, the column *\"Will you shop any Black Friday sales on Thanksgiving Day?\"*, which will be summarized across categories, will be renamed to *\"Shopped_BF\"*."
   ]
  },
  {
   "cell_type": "code",
   "execution_count": 3,
   "metadata": {
    "collapsed": true
   },
   "outputs": [],
   "source": [
    "tg_data.rename(columns = {\"What is your gender?\": \"Gender\",\n",
    "                          \"Will you shop any Black Friday sales on Thanksgiving Day?\": \"Shopped_BF\"}, inplace = True)"
   ]
  },
  {
   "cell_type": "markdown",
   "metadata": {},
   "source": [
    "We will also change *Shopped_BF* from \"Yes\" and \"No\" to 1's and 0's for ease of computation."
   ]
  },
  {
   "cell_type": "code",
   "execution_count": 4,
   "metadata": {
    "collapsed": true
   },
   "outputs": [],
   "source": [
    "def yes_no_to_int(yes_no_string):\n",
    "    if yes_no_string == \"Yes\": return 1\n",
    "    if yes_no_string == \"No\": return 0\n",
    "\n",
    "tg_data[\"Shopped_BF\"] = tg_data[\"Shopped_BF\"].apply(yes_no_to_int)    "
   ]
  },
  {
   "cell_type": "markdown",
   "metadata": {},
   "source": [
    "Now we are ready to create a [pivot table](https://pandas.pydata.org/pandas-docs/stable/generated/pandas.pivot_table.html) showing the percentages of males and females that shopped Black Friday sales on Thanksgiving Day 2015."
   ]
  },
  {
   "cell_type": "code",
   "execution_count": 5,
   "metadata": {},
   "outputs": [
    {
     "data": {
      "text/html": [
       "<div>\n",
       "<style>\n",
       "    .dataframe thead tr:only-child th {\n",
       "        text-align: right;\n",
       "    }\n",
       "\n",
       "    .dataframe thead th {\n",
       "        text-align: left;\n",
       "    }\n",
       "\n",
       "    .dataframe tbody tr th {\n",
       "        vertical-align: top;\n",
       "    }\n",
       "</style>\n",
       "<table border=\"1\" class=\"dataframe\">\n",
       "  <thead>\n",
       "    <tr style=\"text-align: right;\">\n",
       "      <th></th>\n",
       "      <th>Shopped_BF</th>\n",
       "    </tr>\n",
       "    <tr>\n",
       "      <th>Gender</th>\n",
       "      <th></th>\n",
       "    </tr>\n",
       "  </thead>\n",
       "  <tbody>\n",
       "    <tr>\n",
       "      <th>Female</th>\n",
       "      <td>24.660194</td>\n",
       "    </tr>\n",
       "    <tr>\n",
       "      <th>Male</th>\n",
       "      <td>21.990741</td>\n",
       "    </tr>\n",
       "  </tbody>\n",
       "</table>\n",
       "</div>"
      ],
      "text/plain": [
       "        Shopped_BF\n",
       "Gender            \n",
       "Female   24.660194\n",
       "Male     21.990741"
      ]
     },
     "execution_count": 5,
     "metadata": {},
     "output_type": "execute_result"
    }
   ],
   "source": [
    "# Since Shopped_BF is either 1 or 0, the mean value is the fraction of Females or Males that shopped\n",
    "# BF sales on Thanksgiving\n",
    "# NaN's are automatically filtered out\n",
    "gender_pvt_tbl = tg_data.pivot_table(index=\"Gender\", values = \"Shopped_BF\", aggfunc = (lambda x: 100 * np.mean(x)))\n",
    "gender_pvt_tbl"
   ]
  },
  {
   "cell_type": "markdown",
   "metadata": {},
   "source": [
    "#### 3.2 Age"
   ]
  },
  {
   "cell_type": "markdown",
   "metadata": {},
   "source": [
    "Without further ado, we can have pandas compute the percentages of people that shopped Black Friday sales on Thanksgiving Day 2015 across age groups."
   ]
  },
  {
   "cell_type": "code",
   "execution_count": 6,
   "metadata": {},
   "outputs": [
    {
     "data": {
      "text/html": [
       "<div>\n",
       "<style>\n",
       "    .dataframe thead tr:only-child th {\n",
       "        text-align: right;\n",
       "    }\n",
       "\n",
       "    .dataframe thead th {\n",
       "        text-align: left;\n",
       "    }\n",
       "\n",
       "    .dataframe tbody tr th {\n",
       "        vertical-align: top;\n",
       "    }\n",
       "</style>\n",
       "<table border=\"1\" class=\"dataframe\">\n",
       "  <thead>\n",
       "    <tr style=\"text-align: right;\">\n",
       "      <th></th>\n",
       "      <th>Shopped_BF</th>\n",
       "    </tr>\n",
       "    <tr>\n",
       "      <th>Age</th>\n",
       "      <th></th>\n",
       "    </tr>\n",
       "  </thead>\n",
       "  <tbody>\n",
       "    <tr>\n",
       "      <th>18 - 29</th>\n",
       "      <td>35.675676</td>\n",
       "    </tr>\n",
       "    <tr>\n",
       "      <th>30 - 44</th>\n",
       "      <td>28.936170</td>\n",
       "    </tr>\n",
       "    <tr>\n",
       "      <th>45 - 59</th>\n",
       "      <td>20.446097</td>\n",
       "    </tr>\n",
       "    <tr>\n",
       "      <th>60+</th>\n",
       "      <td>12.790698</td>\n",
       "    </tr>\n",
       "  </tbody>\n",
       "</table>\n",
       "</div>"
      ],
      "text/plain": [
       "         Shopped_BF\n",
       "Age                \n",
       "18 - 29   35.675676\n",
       "30 - 44   28.936170\n",
       "45 - 59   20.446097\n",
       "60+       12.790698"
      ]
     },
     "execution_count": 6,
     "metadata": {},
     "output_type": "execute_result"
    }
   ],
   "source": [
    "age_pvt_tbl = tg_data.pivot_table(index=\"Age\", values = \"Shopped_BF\", aggfunc = (lambda x: 100 * np.mean(x)))\n",
    "age_pvt_tbl"
   ]
  },
  {
   "cell_type": "markdown",
   "metadata": {},
   "source": [
    "It seems as one ages, Black Friday sales lose their allure, specially if it involves leaving the family on Thanksgiving Day to go elbow to elbow with strangers to buy material goods. On the other hand, one could see the appeal of doorbuster deals on toys for people with families."
   ]
  },
  {
   "cell_type": "markdown",
   "metadata": {},
   "source": [
    "#### 3.3 U.S. Region"
   ]
  },
  {
   "cell_type": "markdown",
   "metadata": {},
   "source": [
    "Similarly for percentages of \"Black Thursday\" shoppers across U.S. regions."
   ]
  },
  {
   "cell_type": "code",
   "execution_count": 7,
   "metadata": {},
   "outputs": [
    {
     "data": {
      "text/html": [
       "<div>\n",
       "<style>\n",
       "    .dataframe thead tr:only-child th {\n",
       "        text-align: right;\n",
       "    }\n",
       "\n",
       "    .dataframe thead th {\n",
       "        text-align: left;\n",
       "    }\n",
       "\n",
       "    .dataframe tbody tr th {\n",
       "        vertical-align: top;\n",
       "    }\n",
       "</style>\n",
       "<table border=\"1\" class=\"dataframe\">\n",
       "  <thead>\n",
       "    <tr style=\"text-align: right;\">\n",
       "      <th></th>\n",
       "      <th>Shopped_BF</th>\n",
       "    </tr>\n",
       "    <tr>\n",
       "      <th>US Region</th>\n",
       "      <th></th>\n",
       "    </tr>\n",
       "  </thead>\n",
       "  <tbody>\n",
       "    <tr>\n",
       "      <th>East North Central</th>\n",
       "      <td>24.137931</td>\n",
       "    </tr>\n",
       "    <tr>\n",
       "      <th>East South Central</th>\n",
       "      <td>30.357143</td>\n",
       "    </tr>\n",
       "    <tr>\n",
       "      <th>Middle Atlantic</th>\n",
       "      <td>23.448276</td>\n",
       "    </tr>\n",
       "    <tr>\n",
       "      <th>Mountain</th>\n",
       "      <td>19.512195</td>\n",
       "    </tr>\n",
       "    <tr>\n",
       "      <th>New England</th>\n",
       "      <td>12.727273</td>\n",
       "    </tr>\n",
       "    <tr>\n",
       "      <th>Pacific</th>\n",
       "      <td>16.153846</td>\n",
       "    </tr>\n",
       "    <tr>\n",
       "      <th>South Atlantic</th>\n",
       "      <td>26.600985</td>\n",
       "    </tr>\n",
       "    <tr>\n",
       "      <th>West North Central</th>\n",
       "      <td>19.718310</td>\n",
       "    </tr>\n",
       "    <tr>\n",
       "      <th>West South Central</th>\n",
       "      <td>31.764706</td>\n",
       "    </tr>\n",
       "  </tbody>\n",
       "</table>\n",
       "</div>"
      ],
      "text/plain": [
       "                    Shopped_BF\n",
       "US Region                     \n",
       "East North Central   24.137931\n",
       "East South Central   30.357143\n",
       "Middle Atlantic      23.448276\n",
       "Mountain             19.512195\n",
       "New England          12.727273\n",
       "Pacific              16.153846\n",
       "South Atlantic       26.600985\n",
       "West North Central   19.718310\n",
       "West South Central   31.764706"
      ]
     },
     "execution_count": 7,
     "metadata": {},
     "output_type": "execute_result"
    }
   ],
   "source": [
    "region_pvt_tbl = tg_data.pivot_table(index=\"US Region\", values = [\"Shopped_BF\"], aggfunc = (lambda x: 100 * np.mean(x)))\n",
    "region_pvt_tbl"
   ]
  },
  {
   "cell_type": "markdown",
   "metadata": {},
   "source": [
    "It seems that across the nation, a large majority of two thirds or more choose not to shop on Thanksgiving."
   ]
  },
  {
   "cell_type": "markdown",
   "metadata": {},
   "source": [
    "#### 3.4 Household Income\n",
    "\n",
    "We will rename *How much total combined money did all members of your HOUSEHOLD earn last year?* to *Household Income*"
   ]
  },
  {
   "cell_type": "code",
   "execution_count": 8,
   "metadata": {
    "collapsed": true
   },
   "outputs": [],
   "source": [
    "tg_data.rename(columns = {\"How much total combined money did all members of your HOUSEHOLD earn last year?\": \n",
    "                          \"Household Income\"}, inplace = True)"
   ]
  },
  {
   "cell_type": "markdown",
   "metadata": {},
   "source": [
    "We will also escape the dollar sign, \"$\", which is a special character"
   ]
  },
  {
   "cell_type": "code",
   "execution_count": 9,
   "metadata": {},
   "outputs": [
    {
     "data": {
      "text/plain": [
       "\\$25,000 to \\$49,999      180\n",
       "Prefer not to answer      136\n",
       "\\$50,000 to \\$74,999      135\n",
       "\\$75,000 to \\$99,999      133\n",
       "\\$100,000 to \\$124,999    111\n",
       "\\$200,000 and up           80\n",
       "\\$10,000 to \\$24,999       68\n",
       "\\$0 to \\$9,999             66\n",
       "\\$125,000 to \\$149,999     49\n",
       "\\$150,000 to \\$174,999     40\n",
       "\\$175,000 to \\$199,999     27\n",
       "Name: Household Income, dtype: int64"
      ]
     },
     "execution_count": 9,
     "metadata": {},
     "output_type": "execute_result"
    }
   ],
   "source": [
    "tg_data[\"Household Income\"] = tg_data[\"Household Income\"].str.replace(\"$\", \"\\$\")\n",
    "tg_data[\"Household Income\"].value_counts()"
   ]
  },
  {
   "cell_type": "code",
   "execution_count": 10,
   "metadata": {},
   "outputs": [
    {
     "data": {
      "text/html": [
       "<div>\n",
       "<style>\n",
       "    .dataframe thead tr:only-child th {\n",
       "        text-align: right;\n",
       "    }\n",
       "\n",
       "    .dataframe thead th {\n",
       "        text-align: left;\n",
       "    }\n",
       "\n",
       "    .dataframe tbody tr th {\n",
       "        vertical-align: top;\n",
       "    }\n",
       "</style>\n",
       "<table border=\"1\" class=\"dataframe\">\n",
       "  <thead>\n",
       "    <tr style=\"text-align: right;\">\n",
       "      <th></th>\n",
       "      <th>Shopped_BF</th>\n",
       "    </tr>\n",
       "    <tr>\n",
       "      <th>Household Income</th>\n",
       "      <th></th>\n",
       "    </tr>\n",
       "  </thead>\n",
       "  <tbody>\n",
       "    <tr>\n",
       "      <th>Prefer not to answer</th>\n",
       "      <td>24.576271</td>\n",
       "    </tr>\n",
       "    <tr>\n",
       "      <th>\\$0 to \\$9,999</th>\n",
       "      <td>42.307692</td>\n",
       "    </tr>\n",
       "    <tr>\n",
       "      <th>\\$10,000 to \\$24,999</th>\n",
       "      <td>30.000000</td>\n",
       "    </tr>\n",
       "    <tr>\n",
       "      <th>\\$100,000 to \\$124,999</th>\n",
       "      <td>16.513761</td>\n",
       "    </tr>\n",
       "    <tr>\n",
       "      <th>\\$125,000 to \\$149,999</th>\n",
       "      <td>14.583333</td>\n",
       "    </tr>\n",
       "    <tr>\n",
       "      <th>\\$150,000 to \\$174,999</th>\n",
       "      <td>15.789474</td>\n",
       "    </tr>\n",
       "    <tr>\n",
       "      <th>\\$175,000 to \\$199,999</th>\n",
       "      <td>19.230769</td>\n",
       "    </tr>\n",
       "    <tr>\n",
       "      <th>\\$200,000 and up</th>\n",
       "      <td>15.789474</td>\n",
       "    </tr>\n",
       "    <tr>\n",
       "      <th>\\$25,000 to \\$49,999</th>\n",
       "      <td>26.506024</td>\n",
       "    </tr>\n",
       "    <tr>\n",
       "      <th>\\$50,000 to \\$74,999</th>\n",
       "      <td>25.984252</td>\n",
       "    </tr>\n",
       "    <tr>\n",
       "      <th>\\$75,000 to \\$99,999</th>\n",
       "      <td>22.047244</td>\n",
       "    </tr>\n",
       "  </tbody>\n",
       "</table>\n",
       "</div>"
      ],
      "text/plain": [
       "                        Shopped_BF\n",
       "Household Income                  \n",
       "Prefer not to answer     24.576271\n",
       "\\$0 to \\$9,999           42.307692\n",
       "\\$10,000 to \\$24,999     30.000000\n",
       "\\$100,000 to \\$124,999   16.513761\n",
       "\\$125,000 to \\$149,999   14.583333\n",
       "\\$150,000 to \\$174,999   15.789474\n",
       "\\$175,000 to \\$199,999   19.230769\n",
       "\\$200,000 and up         15.789474\n",
       "\\$25,000 to \\$49,999     26.506024\n",
       "\\$50,000 to \\$74,999     25.984252\n",
       "\\$75,000 to \\$99,999     22.047244"
      ]
     },
     "execution_count": 10,
     "metadata": {},
     "output_type": "execute_result"
    }
   ],
   "source": [
    "income_pvt_tbl = tg_data.pivot_table(index=\"Household Income\", values = \"Shopped_BF\", aggfunc = (lambda x: 100 * np.mean(x)))\n",
    "income_pvt_tbl"
   ]
  },
  {
   "cell_type": "markdown",
   "metadata": {},
   "source": [
    "As perhaps could be expected, people who earn less are generally more keen to score BF deals."
   ]
  },
  {
   "cell_type": "markdown",
   "metadata": {},
   "source": [
    "### 4.0 Bar plots"
   ]
  },
  {
   "cell_type": "markdown",
   "metadata": {},
   "source": [
    "We can use `matplotlib.pyplot()` to plot the pivot tables so we can visualize the data. Plotting leads to insight more quickly."
   ]
  },
  {
   "cell_type": "code",
   "execution_count": 13,
   "metadata": {},
   "outputs": [
    {
     "data": {
      "image/png": "[encoded data removed]",
      "text/plain": [
       "<matplotlib.figure.Figure at 0x78d74a0346a0>"
      ]
     },
     "metadata": {},
     "output_type": "display_data"
    }
   ],
   "source": [
    "# List of pivot tables\n",
    "pvt_tbl_list = [gender_pvt_tbl, region_pvt_tbl, age_pvt_tbl, income_pvt_tbl]\n",
    "\n",
    "# List of income ranges. Doing it by hand b/c the .index() function\n",
    "# applied to the pivot table sorts them wrong: $100,000 before $25,000, etc.\n",
    "\n",
    "income_list = ['\\$0 to \\$9,999', '\\$10,000 to \\$24,999', '\\$25,000 to \\$49,999', '\\$50,000 to \\$74,999',\n",
    "               '\\$75,000 to \\$99,999', '\\$100,000 to \\$124,999', '\\$125,000 to \\$149,999',\n",
    "               '\\$150,000 to \\$174,999', '\\$175,000 to \\$199,999', '\\$200,000 and up', 'Prefer not to answer']\n",
    "\n",
    "# List of categories list\n",
    "\n",
    "pvt_tbl_cats_list = [gender_pvt_tbl.index.tolist(), region_pvt_tbl.index.tolist(), age_pvt_tbl.index.tolist(), income_list]\n",
    "\n",
    "# Subplots' titles\n",
    "categ_dict = {0: \"Gender\", 1: \"U.S. Region\", 2: \"Age\", 3: \"Income\"}\n",
    "\n",
    "fig = plt.figure(figsize=(12, 12))\n",
    "# Overall plot title\n",
    "fig.suptitle(\"Percentages that shopped Black Friday sales on Thanksgiving Day, across categories\", fontsize = 14, fontweight = \"bold\")\n",
    "\n",
    "for sp in range(0,4):\n",
    "    ax = fig.add_subplot(2,2,sp+1)\n",
    "    idx = 0\n",
    "    rects = []\n",
    "    # Drawing the bars one at a time\n",
    "    for categ in pvt_tbl_cats_list[sp]:\n",
    "        rects.append(ax.bar(x = idx, height = pvt_tbl_list[sp].loc[pvt_tbl_cats_list[sp][idx], \"Shopped_BF\"] ,width =  0.5))\n",
    "        idx += 1\n",
    "    \n",
    "    # Make plot edges and axes ticks and labels invisible\n",
    "    for key,spine in ax.spines.items():\n",
    "        spine.set_visible(False)\n",
    "\n",
    "    ax.tick_params(bottom=\"off\", top=\"off\", left=\"off\", right=\"off\")\n",
    "\n",
    "    ax.tick_params(labelbottom='off')\n",
    "    \n",
    "    ax. set_title(categ_dict[sp], fontsize = 14)\n",
    "    \n",
    "    # Legend\n",
    "    if (sp % 2) == 0:\n",
    "        ax.legend(rects, pvt_tbl_cats_list[sp], loc='best', frameon = False)\n",
    "    else:\n",
    "        ax.legend(rects, pvt_tbl_cats_list[sp], loc='lower center', bbox_to_anchor=(1.2, 0.5), frameon = False)\n",
    "    \n",
    "    # Formatting the y-axis\n",
    "    vals = ax.get_yticks()\n",
    "    ax.set_yticklabels(['{:2.0f}%'.format(x) for x in vals])\n",
    "    \n",
    "plt.tight_layout(pad=5, w_pad=5, h_pad=2)\n",
    "plt.show()"
   ]
  },
  {
   "cell_type": "markdown",
   "metadata": {},
   "source": [
    "Men and women are just about equally likely to shop the Black Friday sales on Thanksgiving Day. The top right plot shows that people in New England and the Pacific coast are much less likely to shop on Thanksgiving than others around the country. The bottom plots depict general downward trends in the allure of shopping Thanksgiving Day as people age or earn more."
   ]
  },
  {
   "cell_type": "markdown",
   "metadata": {},
   "source": [
    "### 5. Summary\n",
    "\n",
    "By means of pivot tables and bar plots, we have gained some insight into how shopping on Thanksgiving Day varies across gender, region, age, and income. It would be a little more interesting still to find out whether the people that shopped on Thanksgiving Day did so by standing in line outside the brick and mortar stores, or online after stuffing themselves with turkey, or both. I could not find out whether the FiveThirtyEight survey specified if shopping referred to brick and mortar shopping only."
   ]
  },
  {
   "cell_type": "markdown",
   "metadata": {
    "collapsed": true
   },
   "source": [
    "### 6.0 References\n",
    "\n",
    "1. Dataquest. [***Guided Project: Analyzing Thanksgiving Dinner***](https://www.dataquest.io/m/219/guided-project%3A-analyzing-thanksgiving-dinner).\n",
    "\n",
    "2. Dataquest. [***Exploratory Data Visualization***](https://www.dataquest.io/m/219/guided-project%3A-analyzing-thanksgiving-dinner).\n",
    "\n",
    "3. Chris and Jianxun Li. [***Format y axis as percent***](https://stackoverflow.com/questions/31357611/format-y-axis-as-percent). July 2015.\n",
    "\n",
    "4. Gerenuk and orbeckst. [***Matplotlib - global legend and title aside subplots***](https://stackoverflow.com/questions/7526625/matplotlib-global-legend-and-title-aside-subplots). September 2011."
   ]
  },
  {
   "cell_type": "code",
   "execution_count": null,
   "metadata": {
    "collapsed": true
   },
   "outputs": [],
   "source": []
  }
 ],
 "metadata": {
  "kernelspec": {
   "display_name": "Python 3",
   "language": "python",
   "name": "python3"
  },
  "language_info": {
   "codemirror_mode": {
    "name": "ipython",
    "version": 3
   },
   "file_extension": ".py",
   "mimetype": "text/x-python",
   "name": "python",
   "nbconvert_exporter": "python",
   "pygments_lexer": "ipython3",
   "version": "3.6.3"
  }
 },
 "nbformat": 4,
 "nbformat_minor": 2
}
